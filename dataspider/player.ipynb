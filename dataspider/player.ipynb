{
 "metadata": {
  "language_info": {
   "codemirror_mode": {
    "name": "ipython",
    "version": 3
   },
   "file_extension": ".py",
   "mimetype": "text/x-python",
   "name": "python",
   "nbconvert_exporter": "python",
   "pygments_lexer": "ipython3",
   "version": "3.8.3"
  },
  "orig_nbformat": 2,
  "kernelspec": {
   "name": "python383jvsc74a57bd0aee8b7b246df8f9039afb4144a1f6fd8d2ca17a180786b69acc140d282b71a49",
   "display_name": "Python 3.8.3 64-bit"
  },
  "metadata": {
   "interpreter": {
    "hash": "aee8b7b246df8f9039afb4144a1f6fd8d2ca17a180786b69acc140d282b71a49"
   }
  }
 },
 "nbformat": 4,
 "nbformat_minor": 2,
 "cells": [
  {
   "cell_type": "code",
   "execution_count": null,
   "metadata": {},
   "outputs": [],
   "source": [
    "# 对队员进行了爬取\n",
    "from lxml import etree\n",
    "import requests\n",
    "import os\n",
    "\n",
    "\n",
    "# 获取队伍信息队员信息\n",
    "pindex = 1\n",
    "tindex = 1\n",
    "\n",
    "#href-队员 返回图片path、身高体重\n",
    "def playerinfo(href):\n",
    "    r = requests.get(href)\n",
    "    print(f'    player{pindex}----{href} : {str(r.status_code)}')\n",
    "    pindex = pindex + 1\n",
    "    html = etree.HTML(r.text)\n",
    "    imghref = html.xpath(\"//div[@id='info']//img[@itemscope='image']/@src\")\n",
    "    playerheight = html.xpath(\"//div[@id='info']//span[@itemprop='height']/text()\")\n",
    "    playerweight = html.xpath(\"//div[@id='info']//span[@itemprop='weight']/text()\")\n",
    "    ret = {\n",
    "        'pimg' : imghref,\n",
    "        'pweight' : playerweight,\n",
    "        'pheight' : playerheight,\n",
    "    }\n",
    "    return ret\n",
    "\n",
    "#href-队伍 \n",
    "#返回队员信息：名字、href、imgpath、身高体重\n",
    "def teamplayer(href):\n",
    "    r = requests.get(href)\n",
    "    print(f'team{tindex}----{href} : {str(r.status_code)}')\n",
    "    tindex = tindex + 1\n",
    "    html = etree.HTML(r.text)\n",
    "    playerlist = html.xpath(\"//div[@id='all_roster']//tbody//td[@data-stat='player']/a/text()\")\n",
    "    playerhref = html.xpath(\"//div[@id='all_roster']//tbody//td[@data-stat='player']/a/@href\")\n",
    "    players = []\n",
    "    for i in range(0, len(playerlist)):\n",
    "        pname = playerlist[i]\n",
    "        pinfo = playerinfo(f'{playerhref[i]}')\n",
    "        phref = playerhref[i]\n",
    "        info = {\n",
    "            'pname' : pname,\n",
    "            'phref' : phref,\n",
    "            'pimg' : pinfo['pimg'],\n",
    "            'pheight' : pinfo['pheight'],\n",
    "            'pweight' : pinfo['pweight'],\n",
    "        }\n",
    "        players.append(info)\n",
    "        print(f'         {pname} {phref} {pinfo[\"pimg\"]} {pinfo[\"pheight\"]} {pinfo[\"pweight\"]}')\n",
    "    return players\n",
    "\n",
    "#返回队伍列表\n",
    "#名字、city、roster、href\n",
    "def teaminfo():\n",
    "    r = requests.get(\"https://www.basketball-reference.com/leagues/NBA_2021.html\")\n",
    "    html = etree.HTML(r.text)\n",
    "    teamname = html.xpath('//*[@id=\"per_game-team\"]//tr//a/text()')\n",
    "    teamhref = html.xpath('//*[@id=\"per_game-team\"]//tr//a/@href')\n",
    "    teamname[4] = 'Portland Trail Blazers'\n",
    "\n",
    "    teamlist = []\n",
    "    for i in range(0, len(teamname)):\n",
    "        tname = teamname[i].split(' ')[-1]\n",
    "        tcity = teamname[i].replace(f' {tname}', '')\n",
    "        tpath = f'https://www.basketball-reference.com{teamhref[i]}'\n",
    "        teamhref[i] = tpath\n",
    "        roster = teamplayer(tpath)\n",
    "\n",
    "        tinfo = {\n",
    "            'tname' : tname,\n",
    "            'tcity' : tcity,\n",
    "            'roster' : roster,\n",
    "            'thref' : tpath,\n",
    "        }\n",
    "        teamlist.append(tinfo)\n",
    "    return teamlist\n",
    "\n",
    "teamlist = teaminfo()"
   ]
  },
  {
   "cell_type": "code",
   "execution_count": null,
   "metadata": {},
   "outputs": [],
   "source": [
    "import re\n",
    "def cleantxt(raw):\n",
    "\treturn re.sub(\"[^a-zA-Z]\", \"\", raw)"
   ]
  },
  {
   "cell_type": "code",
   "execution_count": null,
   "metadata": {},
   "outputs": [],
   "source": [
    "import csv\n",
    "\n",
    "header = ['tname', 'tcity', 'thref']\n",
    "tlist = []\n",
    "for team in teamlist:\n",
    "    tlist.append((team['tname'], team['tcity'], team['thref']))\n",
    "with open('teamlist.csv', 'w') as f:\n",
    "    fwriter = csv.writer(f)\n",
    "    fwriter.writerow(header)\n",
    "    fwriter.writerows(tlist)\n",
    "\n",
    "\n",
    "header = ['pname', 'pimgpath', 'pw', 'ph', 'phref', 'team']\n",
    "plist = []\n",
    "for team in teamlist:\n",
    "    for player in team['roster']:\n",
    "        player['pimg'] = f\"{cleantxt(player['pname'])}.jpg\"\n",
    "        player['pweight'] = str(player['pweight']).replace(\"['\", '').replace(\"']\", '').replace(\"[\", '').replace(\"]\", '')\n",
    "        player['pheight'] = str(player['pheight']).replace(\"['\", '').replace(\"']\", '').replace(\"[\", '').replace(\"]\", '')\n",
    "        player['phref'] = f'{player[\"phref\"]}'\n",
    "        plist.append((player['pname'], player['pimg'], player['pweight'], player['pheight'], player['phref'], team['tname']))\n",
    "with open('playerlist.csv', 'w') as f:\n",
    "    fwriter = csv.writer(f)\n",
    "    fwriter.writerow(header)\n",
    "    fwriter.writerows(plist)"
   ]
  },
  {
   "cell_type": "code",
   "execution_count": null,
   "metadata": {},
   "outputs": [],
   "source": [
    "for team in teamlist:\n",
    "    for player in team['roster']:\n",
    "        url = str(player['pimg'])\n",
    "        url = url.replace(\"['\", '').replace(\"']\", '').replace(\"[\", '').replace(\"]\", '')\n",
    "        name = cleantxt(player[\"pname\"])\n",
    "        if url:\n",
    "            #os.system(f'wget {url}')\n",
    "            os.system(f'mv {url.split(\"/\")[-1]} playerimg/{name}.jpg')\n",
    "            print(f'mv {url.split(\"/\")[-1]} playerimg/{name}.jpg')"
   ]
  },
  {
   "cell_type": "code",
   "execution_count": null,
   "metadata": {},
   "outputs": [],
   "source": [
    "os.system('mv ./sql.py ./playerimg/sql2.py')"
   ]
  },
  {
   "cell_type": "code",
   "execution_count": null,
   "metadata": {},
   "outputs": [],
   "source": [
    "import re\n",
    "def cleantxt(raw):\n",
    "\treturn re.sub(\"[^a-zA-Z]\", \"\", raw)"
   ]
  },
  {
   "cell_type": "code",
   "execution_count": null,
   "metadata": {},
   "outputs": [],
   "source": [
    "from lxml import etree\n",
    "with open('h.html', 'r') as f:\n",
    "    text = f.read()\n",
    "html = etree.XPath(text)\n"
   ]
  }
 ]
}